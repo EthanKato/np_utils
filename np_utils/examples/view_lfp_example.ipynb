{
 "cells": [
  {
   "cell_type": "markdown",
   "id": "07e2300b",
   "metadata": {},
   "source": [
    "# View LFP for Pial Surface Estimation Example\n",
    "### Uses np_utils spikeinterface.find_pial_surface.py and some core utils\n",
    "Use se2nwb or make your own environment with np_utils and all dependencies\n",
    "\n"
   ]
  },
  {
   "cell_type": "code",
   "execution_count": null,
   "id": "731b7c7b",
   "metadata": {},
   "outputs": [],
   "source": [
    "import np_utils as nu\n",
    "import np_utils.spikeinterface as nusi"
   ]
  },
  {
   "cell_type": "code",
   "execution_count": null,
   "id": "ee819e57",
   "metadata": {},
   "outputs": [],
   "source": [
    "REC_ID = \"NP157_B1\""
   ]
  },
  {
   "cell_type": "markdown",
   "id": "2250af57",
   "metadata": {},
   "source": [
    "Use nu.find_all_neural_binaries to get the per probe lfp binaries"
   ]
  },
  {
   "cell_type": "code",
   "execution_count": null,
   "id": "656cd16d",
   "metadata": {},
   "outputs": [],
   "source": [
    "lf_dict = nu.find_all_neural_binaries(REC_ID, source='catgt', band='lf')\n",
    "lf_dict"
   ]
  },
  {
   "cell_type": "markdown",
   "id": "16ab4cfe",
   "metadata": {},
   "source": [
    "If you want to detect peaks you need to source an ap.bin as well"
   ]
  },
  {
   "cell_type": "code",
   "execution_count": null,
   "id": "b0cbb052",
   "metadata": {},
   "outputs": [],
   "source": [
    "ap_dict = nu.find_all_neural_binaries(REC_ID, source='catgt', band='ap')\n",
    "ap_dict\n"
   ]
  },
  {
   "cell_type": "markdown",
   "id": "732e5c71",
   "metadata": {},
   "source": [
    "Plot LFP! \n",
    "\n",
    "\n",
    "note: to estimate pial surface it is helpful to splice the start and end of the recordings together to speed things up. If you really need the full LFP, change splice_to_ends to False. Also, see inside of np_utils.spikeinterface.find_pial_surface.py for more detailed documentation\n",
    "\n",
    "You can optionally detect peaks and toggle these on and off by clicking the legend in the bottom left"
   ]
  },
  {
   "cell_type": "code",
   "execution_count": null,
   "id": "fc66b94a",
   "metadata": {},
   "outputs": [],
   "source": [
    "nusi.plot_lfp_heatmap(\n",
    "    lfp_path=lf_dict['imec0'],\n",
    "    ap_path=ap_dict['imec0'], \n",
    "    title=f\"LFP heatmap for {REC_ID}, imec0 with spikes\", \n",
    "    splice_to_ends=True, \n",
    "    detect_peaks=True,\n",
    "    peak_threshold=5.0, # Spikeinterface peak detection threshold\n",
    "    max_peaks=200000, # Takes a random subsample of peaks to plot (for speed)\n",
    "    verbose=True)"
   ]
  },
  {
   "cell_type": "code",
   "execution_count": null,
   "id": "928aed4a",
   "metadata": {},
   "outputs": [],
   "source": []
  }
 ],
 "metadata": {
  "kernelspec": {
   "display_name": "se2nwb",
   "language": "python",
   "name": "python3"
  },
  "language_info": {
   "codemirror_mode": {
    "name": "ipython",
    "version": 3
   },
   "file_extension": ".py",
   "mimetype": "text/x-python",
   "name": "python",
   "nbconvert_exporter": "python",
   "pygments_lexer": "ipython3",
   "version": "3.10.18"
  }
 },
 "nbformat": 4,
 "nbformat_minor": 5
}
